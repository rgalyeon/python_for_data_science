{
 "cells": [
  {
   "cell_type": "code",
   "execution_count": 1,
   "metadata": {},
   "outputs": [],
   "source": [
    "import numpy as np\n",
    "from scipy import linalg"
   ]
  },
  {
   "cell_type": "markdown",
   "metadata": {},
   "source": [
    "### 1) Найти уникальное число элементов в массиве\n",
    "$$\\begin{pmatrix} 3 & 3 & 3 \\\\ 1 & 3 & 4 \\\\ 7 & 1 & 3\\end{pmatrix}$$"
   ]
  },
  {
   "cell_type": "code",
   "execution_count": 2,
   "metadata": {},
   "outputs": [
    {
     "data": {
      "text/plain": [
       "4"
      ]
     },
     "execution_count": 2,
     "metadata": {},
     "output_type": "execute_result"
    }
   ],
   "source": [
    "len(np.unique(np.array([[3, 3, 3], [1, 3, 4], [7, 1, 3]])))"
   ]
  },
  {
   "cell_type": "markdown",
   "metadata": {},
   "source": [
    "### 2) Поменять порядок элементов в массиве на обратный и вернуть 4-й элемент нового массива Z = np.array([92, 13, 44, 555, 1, -3])"
   ]
  },
  {
   "cell_type": "code",
   "execution_count": 3,
   "metadata": {},
   "outputs": [
    {
     "data": {
      "text/plain": [
       "13"
      ]
     },
     "execution_count": 3,
     "metadata": {},
     "output_type": "execute_result"
    }
   ],
   "source": [
    "Z = np.array([92, 13, 44, 555, 1, -3])\n",
    "\n",
    "np.flip(Z)[4]"
   ]
  },
  {
   "cell_type": "markdown",
   "metadata": {},
   "source": [
    "### 3) Создайте два вектора - вектор, состоящий из 5 единиц, и другой вектор размером 5, содержащий только значение 2. Найдите скалярное произведение векторов."
   ]
  },
  {
   "cell_type": "code",
   "execution_count": 4,
   "metadata": {},
   "outputs": [
    {
     "data": {
      "text/plain": [
       "10.0"
      ]
     },
     "execution_count": 4,
     "metadata": {},
     "output_type": "execute_result"
    }
   ],
   "source": [
    "a = np.ones(5)\n",
    "b = np.full(5, 2)\n",
    "np.dot(a, b)"
   ]
  },
  {
   "cell_type": "markdown",
   "metadata": {},
   "source": [
    "### 4) Найти произведение двух матриц и вернуть диагональные элементы получившейся матрицы\n",
    "$$\\begin{pmatrix} 0 & 9 & 19 & 13 \\\\ 1 & 20 & 5 & 13 \\\\ 12 & 11 & 3 & 4\\end{pmatrix} \\times \\begin{pmatrix} 2 & 0 & 0 & 0 \\\\ 1 & 2 & 2 & 0 \\\\ 2 & 1 & 1 & 0 \\\\ 0 & 0 & 1 & 1\\end{pmatrix}$$ "
   ]
  },
  {
   "cell_type": "code",
   "execution_count": 5,
   "metadata": {},
   "outputs": [
    {
     "data": {
      "text/plain": [
       "array([47, 45, 29])"
      ]
     },
     "execution_count": 5,
     "metadata": {},
     "output_type": "execute_result"
    }
   ],
   "source": [
    "A = np.array([[0, 9, 19, 13], [1, 20, 5, 13], [12, 11, 3, 4]])\n",
    "B = np.array([[2, 0, 0, 0], [1, 2, 2, 0], [2, 1, 1, 0], [0, 0, 1, 1]])\n",
    "\n",
    "np.dot(A, B).diagonal()"
   ]
  },
  {
   "cell_type": "markdown",
   "metadata": {},
   "source": [
    "### 5) Найти среднее значение элементов массива b = np.array([[-1, 33, 4, 1], [0, 1, 1, 0]])"
   ]
  },
  {
   "cell_type": "code",
   "execution_count": 6,
   "metadata": {},
   "outputs": [
    {
     "data": {
      "text/plain": [
       "4.875"
      ]
     },
     "execution_count": 6,
     "metadata": {},
     "output_type": "execute_result"
    }
   ],
   "source": [
    "b = np.array([[-1, 33, 4, 1], [0, 1, 1, 0]])\n",
    "\n",
    "b.mean()"
   ]
  },
  {
   "cell_type": "markdown",
   "metadata": {},
   "source": [
    "# При помощи инструментов SciPy ответьте на следующие вопросы."
   ]
  },
  {
   "cell_type": "markdown",
   "metadata": {},
   "source": [
    "### 6) Является ли данная система векторов линейно независимой [6, 0, 3], [0, -1, 2], [12, 3, 0]?"
   ]
  },
  {
   "cell_type": "code",
   "execution_count": 7,
   "metadata": {},
   "outputs": [
    {
     "name": "stdout",
     "output_type": "stream",
     "text": [
      "NO\n"
     ]
    }
   ],
   "source": [
    "X = np.array([[6, 0, 3], [0, -1, 2], [12, 3, 0]])\n",
    "\n",
    "if linalg.det(X) == 0:\n",
    "    print(\"NO\")\n",
    "else:\n",
    "    print(\"YES\")"
   ]
  },
  {
   "cell_type": "markdown",
   "metadata": {},
   "source": [
    "### 7) Найти собственные числа матрицы \n",
    "$$\\begin{pmatrix} 1 & -1 & -1 & 0 \\\\ -1 & 2 & -1 & -1 \\\\ -1 & -1 & 2 & -1 \\\\ 0 & -1 & -1 & 1\\end{pmatrix}$$"
   ]
  },
  {
   "cell_type": "code",
   "execution_count": 8,
   "metadata": {},
   "outputs": [
    {
     "data": {
      "text/plain": [
       "array([-1.+0.j,  1.+0.j,  3.+0.j,  3.+0.j])"
      ]
     },
     "execution_count": 8,
     "metadata": {},
     "output_type": "execute_result"
    }
   ],
   "source": [
    "X = np.array([[1, -1, -1, 0], [-1, 2, -1, -1], [-1, -1, 2, -1], [0, -1, -1, 1]])\n",
    "\n",
    "linalg.eig(X)[0]"
   ]
  },
  {
   "cell_type": "markdown",
   "metadata": {},
   "source": [
    "### 8) Найти обратную матрицу и след обратной матрицы (сумма элементов главной диагонали) \n",
    "$$\\begin{pmatrix} 2 & 4 & 0 & 4 & 1 \\\\ 2 & 4 & 1 & 1 & 0 \\\\ 1 & 1 & 1 & 2 & 2 \\\\ 0 & 1 & 3 & 2 & 4 \\\\ 2 & 2 & 2 & 0 & 2\\end{pmatrix}$$"
   ]
  },
  {
   "cell_type": "code",
   "execution_count": 9,
   "metadata": {},
   "outputs": [
    {
     "data": {
      "text/plain": [
       "2.700000000000001"
      ]
     },
     "execution_count": 9,
     "metadata": {},
     "output_type": "execute_result"
    }
   ],
   "source": [
    "X = np.array([[2, 4, 0, 4, 1], [2, 4, 1, 1, 0], [1, 1, 1, 2, 2], [0, 1, 3, 2, 4], [2, 2, 2, 0, 2]])\n",
    "\n",
    "linalg.inv(X).trace()"
   ]
  }
 ],
 "metadata": {
  "kernelspec": {
   "display_name": "Python 3",
   "language": "python",
   "name": "python3"
  },
  "language_info": {
   "codemirror_mode": {
    "name": "ipython",
    "version": 3
   },
   "file_extension": ".py",
   "mimetype": "text/x-python",
   "name": "python",
   "nbconvert_exporter": "python",
   "pygments_lexer": "ipython3",
   "version": "3.7.4"
  }
 },
 "nbformat": 4,
 "nbformat_minor": 2
}
